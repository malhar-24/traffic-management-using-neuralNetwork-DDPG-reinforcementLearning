{
 "cells": [
  {
   "cell_type": "markdown",
   "metadata": {},
   "source": [
    "**Neural network**"
   ]
  },
  {
   "cell_type": "markdown",
   "metadata": {},
   "source": [
    "*Generating data set for training*"
   ]
  },
  {
   "cell_type": "code",
   "execution_count": null,
   "metadata": {},
   "outputs": [],
   "source": [
    "state=[]\n",
    "action=[]\n",
    "nextstate=[]"
   ]
  },
  {
   "cell_type": "code",
   "execution_count": null,
   "metadata": {},
   "outputs": [],
   "source": [
    "state.append([0,0,0,0,0,0,0,0])\n",
    "action.append(0)\n",
    "nextstate.append([0,0,0,0,0,0,0,0])"
   ]
  },
  {
   "cell_type": "markdown",
   "metadata": {},
   "source": [
    "**RUN THIS CODE STILL THE LENGTH OF STATE,ACTION,NEXT STATE BECOMES MORE THAN 20000**"
   ]
  },
  {
   "cell_type": "code",
   "execution_count": null,
   "metadata": {},
   "outputs": [],
   "source": [
    "from os import wait\n",
    "import random\n",
    "\n",
    "def generate_input():\n",
    "    cars_in_lane = [random.randint(0, 100) for _ in range(4)]  # 4 values from 0-30\n",
    "    wait_times = [0,0,0,0]\n",
    "    return cars_in_lane + wait_times\n",
    "\n",
    "def rotate_list(lst, n):\n",
    "    return lst[n:] + lst[:n]\n",
    "\n",
    "def rotate_update(wait_times, nn_output):\n",
    "    selected_lane = 0  # Always the first lane\n",
    "    green_time = nn_output[0]\n",
    "    carsinlane = wait_times[:4]\n",
    "    carswaittime = wait_times[4:8]\n",
    "\n",
    "    cars_per_second = 1\n",
    "    cars_passed = min(carsinlane[selected_lane], cars_per_second * green_time)\n",
    "    carsinlane[selected_lane] -= cars_passed\n",
    "    carswaittime[selected_lane] = 0\n",
    "\n",
    "    for i in range(4):\n",
    "        if i != selected_lane:\n",
    "            if carsinlane[i] > 0:\n",
    "                carswaittime[i] += green_time\n",
    "            else:\n",
    "                carswaittime[i] = 0\n",
    "\n",
    "    carsinlane = rotate_list(carsinlane, 1)\n",
    "    carswaittime = rotate_list(carswaittime, 1)\n",
    "    return carsinlane + carswaittime\n",
    "\n",
    "def checkcross(greenlist,carsinlane):\n",
    "  new_cars_wait_time=carsinlane[4:8]\n",
    "  exceeded_times = [wait for wait in new_cars_wait_time if wait >= 60]\n",
    "  diff_exceeded = [wait - 60 for wait in new_cars_wait_time if wait >= 60]\n",
    "  if all(num == 0 for num in carsinlane[:4]):\n",
    "    return False, 0\n",
    "  else:\n",
    "    if len(diff_exceeded)>0:\n",
    "      return True,diff_exceeded\n",
    "    else:\n",
    "      return False,0\n",
    "\n",
    "\n",
    "def correcttime(value, greenlist):\n",
    "    i = 0\n",
    "    value2=sum(greenlist)\n",
    "    if value[0]<value2:\n",
    "      while i < value[0]:\n",
    "          for j in range(4):\n",
    "              if greenlist[j] > 0:\n",
    "                  greenlist[j] -= 1\n",
    "                  i += 1\n",
    "              if i == value[0]:  # Exit condition\n",
    "                  break\n",
    "\n",
    "    return greenlist\n",
    "\n",
    "\n",
    "\n",
    "\n",
    "def calculate_green_times(carsinlane, total_green_time=120):\n",
    "    total_cars = sum(carsinlane[:4])\n",
    "    if total_cars==0:\n",
    "      return [0,0,0,0]\n",
    "    wait_times=carsinlane[4:8]\n",
    "    if total_cars == 0:\n",
    "        list1= [0] * 4\n",
    "        return list1\n",
    "    green_times = [(cars / total_cars) * total_green_time for cars in carsinlane[:4]]\n",
    "    greenlist=[int(gt) for gt in green_times]\n",
    "    for i in range(4):\n",
    "      if greenlist[i]>carsinlane[i]:\n",
    "        greenlist[i]=carsinlane[i]\n",
    "    carsinlane2 = carsinlane\n",
    "    for i in greenlist:\n",
    "      updated_wait_times = rotate_update(carsinlane2, [i])\n",
    "      carsinlane2=updated_wait_times\n",
    "      status,value=checkcross(greenlist,carsinlane2)\n",
    "      if status==True:\n",
    "        listc=correcttime(value,greenlist)\n",
    "      else:\n",
    "        listc=greenlist\n",
    "    return listc\n",
    "\n",
    "# 🔹 Example usage\n",
    "for _ in range(100):\n",
    "\n",
    "  # 🔹 Example usage\n",
    "  wait_times =  generate_input()  # Initial cars & wait times\n",
    "  nn_output = calculate_green_times(wait_times)  # Lane 2 gets green light for 10 sec\n",
    "  while any(wait_times[:4]):  # Continue until all car counts are 0\n",
    "    for i in nn_output:\n",
    "      updated_wait_times = rotate_update(wait_times, [i])\n",
    "      state.append(wait_times)\n",
    "      action.append(i)\n",
    "      nextstate.append(updated_wait_times)\n",
    "      wait_times=updated_wait_times\n",
    "    if all(num == 0 for num in wait_times[:4]):\n",
    "      break\n",
    "    nn_output = calculate_green_times(wait_times)  # Lane 2 gets green light for 10 sec\n",
    "\n",
    "print(len(state))\n",
    "print(len(action))\n",
    "print(len(nextstate))"
   ]
  },
  {
   "cell_type": "markdown",
   "metadata": {},
   "source": [
    "**NN Structure and Training**"
   ]
  },
  {
   "cell_type": "code",
   "execution_count": null,
   "metadata": {},
   "outputs": [],
   "source": [
    "import torch\n",
    "import torch.nn as nn\n",
    "import torch.optim as optim\n",
    "import random\n",
    "\n",
    "# Define the neural network\n",
    "class TrafficNN(nn.Module):\n",
    "    def __init__(self):\n",
    "        super(TrafficNN, self).__init__()\n",
    "        self.fc1 = nn.Linear(8, 128)\n",
    "        self.fc2 = nn.Linear(128, 64)\n",
    "        self.fc3 = nn.Linear(64, 1)\n",
    "\n",
    "    def forward(self, x):\n",
    "        x = torch.relu(self.fc1(x))\n",
    "        x = torch.relu(self.fc2(x))\n",
    "        x = torch.sigmoid(self.fc3(x))  # Output in range (0,1)\n",
    "        return x * 120  # Rescale to 0-120\n",
    "\n",
    "# Initialize model, loss function, and optimizer\n",
    "model = TrafficNN()\n",
    "criterion = nn.MSELoss()\n",
    "optimizer = optim.Adam(model.parameters(), lr=0.001)  # Better learning rate\n",
    "\n",
    "# Convert lists to tensors (Ensure enough data)\n",
    "X_train = torch.tensor(state[:20000], dtype=torch.float32) / 100  # Normalize inputs\n",
    "y_train = torch.tensor(action[:20000], dtype=torch.float32).view(-1, 1) / 120  # Normalize outputs\n",
    "\n",
    "# Training loop\n",
    "epochs = 25000\n",
    "for epoch in range(epochs):\n",
    "    optimizer.zero_grad()\n",
    "    outputs = model(X_train)\n",
    "    loss = criterion(outputs, y_train)\n",
    "    loss.backward()\n",
    "    optimizer.step()\n",
    "\n",
    "    if epoch % 500 == 0:  # Print loss every 500 epochs\n",
    "        print(f\"Epoch {epoch}, Loss: {loss.item():.4f}\")\n",
    "\n",
    "# Test the model\n",
    "test_state = torch.tensor([[10, 0, 0, 0, 5, 0, 0, 0]], dtype=torch.float32) / 100  # Normalize test input\n",
    "test_state = test_state.view(1, -1)\n",
    "predicted_action = model(test_state).item() * 120  # Rescale back to 0-120\n",
    "print(f\"Predicted Green Time: {predicted_action:.2f} seconds\")\n"
   ]
  },
  {
   "cell_type": "markdown",
   "metadata": {},
   "source": [
    "**TEST THE MODEL**"
   ]
  },
  {
   "cell_type": "code",
   "execution_count": null,
   "metadata": {},
   "outputs": [],
   "source": [
    "X_test = torch.tensor(state, dtype=torch.float32) / 100  # Normalize inputs\n",
    "y_test = torch.tensor(action, dtype=torch.float32).view(-1, 1) / 120  # Normalize outputs"
   ]
  },
  {
   "cell_type": "code",
   "execution_count": null,
   "metadata": {},
   "outputs": [],
   "source": [
    "with torch.no_grad():\n",
    "  y_eval=model.forward(X_test)\n",
    "  loss=criterion(y_eval,y_test)\n",
    "print(loss)"
   ]
  },
  {
   "cell_type": "markdown",
   "metadata": {},
   "source": [
    "**SAVE THE MODEL**"
   ]
  },
  {
   "cell_type": "code",
   "execution_count": null,
   "metadata": {},
   "outputs": [],
   "source": [
    "torch.save(model.state_dict(), \"traffic_nn2.pth\")"
   ]
  },
  {
   "cell_type": "markdown",
   "metadata": {},
   "source": [
    "**LOAD SAVED MODEL**"
   ]
  },
  {
   "cell_type": "code",
   "execution_count": null,
   "metadata": {},
   "outputs": [],
   "source": [
    "# Define the neural network\n",
    "class TrafficNN(nn.Module):\n",
    "    def __init__(self):\n",
    "        super(TrafficNN, self).__init__()\n",
    "        self.fc1 = nn.Linear(8, 128)\n",
    "        self.fc2 = nn.Linear(128, 64)\n",
    "        self.fc3 = nn.Linear(64, 1)\n",
    "\n",
    "    def forward(self, x):\n",
    "        x = torch.relu(self.fc1(x))\n",
    "        x = torch.relu(self.fc2(x))\n",
    "        x = torch.sigmoid(self.fc3(x))  # Output in range (0,1)\n",
    "        return x * 120  # Rescale to 0-120\n",
    "# Load the trained model\n",
    "model2 = TrafficNN()\n",
    "criterion = nn.MSELoss()\n",
    "model2.load_state_dict(torch.load(\"traffic_nn2.pth\"))\n",
    "model2.eval()\n",
    "\n",
    "# Generate initial state (cars in lanes and wait times)\n",
    "ini=generate_input()\n",
    "print(\"Begin:\")\n",
    "while any(ini[:4]):\n",
    "  test_state = torch.tensor([ini], dtype=torch.float32) / 100  # Normalize test input\n",
    "  print(ini)\n",
    "  test_state = test_state.view(1, -1)  # Ensure correct shape\n",
    "  predicted_action = round(model2(test_state).item() * 120 ) # Rescale prediction\n",
    "  print(f\"Predicted Green Time: {predicted_action:.2f} seconds\")\n",
    "  ini=rotate_update(ini, [predicted_action])\n",
    "print(ini)\n",
    "print(\"End:\")"
   ]
  }
 ],
 "metadata": {
  "language_info": {
   "name": "python"
  }
 },
 "nbformat": 4,
 "nbformat_minor": 2
}
